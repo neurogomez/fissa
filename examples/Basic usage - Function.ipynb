{
 "cells": [
  {
   "cell_type": "markdown",
   "metadata": {},
   "source": [
    "# Basic FISSA usage\n",
    "\n",
    "This notebook contains a step-by-step example of how to use the function-based high-level interface to the [FISSA](https://github.com/rochefort-lab/fissa) toolbox, [fissa.run_fissa](https://fissa.readthedocs.io/en/latest/source/packages/fissa.core.html#fissa.core.run_fissa).\n",
    "\n",
    "For more details about the methodology behind FISSA, please see our paper:\n",
    "\n",
    "Keemink, S. W., Lowe, S. C., Pakan, J. M. P., Dylda, E., van Rossum, M. C. W., and Rochefort, N. L. FISSA: A neuropil decontamination toolbox for calcium imaging signals, *Scientific Reports*, **8**(1):3493, 2018. doi: [10.1038/s41598-018-21640-2](https://www.doi.org/10.1038/s41598-018-21640-2).\n",
    "\n",
    "See [basic_usage_func.py](https://github.com/rochefort-lab/fissa/blob/master/examples/basic_usage_func.py) (or [basic_usage_func_windows.py](https://github.com/rochefort-lab/fissa/blob/master/examples/basic_usage_func_windows.py) for Windows users) for a short example script outside of a notebook interface."
   ]
  },
  {
   "cell_type": "markdown",
   "metadata": {},
   "source": [
    "## Import packages\n",
    "\n",
    "First, we need to import fissa."
   ]
  },
  {
   "cell_type": "code",
   "execution_count": 4,
   "metadata": {},
   "outputs": [],
   "source": [
    "# Import the FISSA toolbox\n",
    "import fissa"
   ]
  },
  {
   "cell_type": "markdown",
   "metadata": {},
   "source": [
    "We also need to import some plotting dependencies which we'll make use in this notebook to display the results."
   ]
  },
  {
   "cell_type": "code",
   "execution_count": 5,
   "metadata": {},
   "outputs": [],
   "source": [
    "# For plotting our results, import numpy and matplotlib\n",
    "import matplotlib.pyplot as plt\n",
    "import numpy as np"
   ]
  },
  {
   "cell_type": "code",
   "execution_count": 6,
   "metadata": {},
   "outputs": [],
   "source": [
    "# Fetch the colormap object for Cynthia Brewer's Paired color scheme\n",
    "colors = plt.get_cmap(\"Paired\")"
   ]
  },
  {
   "cell_type": "markdown",
   "metadata": {},
   "source": [
    "## Running FISSA\n",
    "\n",
    "With the function-based interface to FISSA, everything is handled in a single function call to [fissa.run_fissa](https://fissa.readthedocs.io/en/latest/source/packages/fissa.core.html#fissa.core.run_fissa). The function takes as its input is the raw signals, and returns the decontaminated signals.\n",
    "\n",
    "The mandatory inputs to [fissa.run_fissa](https://fissa.readthedocs.io/en/latest/source/packages/fissa.core.html#fissa.core.run_fissa) are:\n",
    "\n",
    "- the experiment images\n",
    "- the regions of interest (ROIs) to extract\n",
    "\n",
    "Images can be given as a path to a folder containing tiff stacks:\n",
    "```python\n",
    "images = \"folder\"\n",
    "```\n",
    "Each of these tiff-stacks in the folder (e.g. `\"folder/trial_001.tif\"`) is a trial with many frames.\n",
    "Although we refer to one trial as an `image`, it is actually a video recording.\n",
    "\n",
    "Alternatively, the image data can be given as a list of paths to tiffs:\n",
    "```python\n",
    "images = [\"folder/trial_001.tif\", \"folder/trial_002.tif\", \"folder/trial_003.tif\"]\n",
    "```\n",
    "or as a list of arrays which you have already loaded into memory:\n",
    "```python\n",
    "images = [array1, array2, array3, ...]\n",
    "```\n",
    "\n",
    "For the regions of interest (ROIs) input, you can either provide a single set of ROIs, or a set of ROIs for every image.\n",
    "\n",
    "If the ROIs were defined using ImageJ, use ImageJ's export function to save them in a zip.\n",
    "Then, provide the ROI filename.\n",
    "```python\n",
    "rois = \"rois.zip\"  # for a single set of ROIs used across all images\n",
    "```\n",
    "The same set of ROIs will be used for every image in `images`.\n",
    "\n",
    "Sometimes there is motion between trials causing the alignment of the ROIs to drift.\n",
    "In such a situation, you may need to use a slightly different location of the ROIs for each trial.\n",
    "This can be handled by providing FISSA with a list of ROI sets — one ROI set (i.e. one ImageJ zip file) per trial.\n",
    "```python\n",
    "rois = [\"rois1.zip\", \"rois2.zip\", ...]  # for a unique roiset for each image\n",
    "```\n",
    "Please note that the ROIs defined in each ROI set must correspond to the same physical reigons across all trials, and that the order must be consistent.\n",
    "That is to say, the 1st ROI listed in each ROI set must correspond to the same item appearing in each trial, etc.\n",
    "\n",
    "In this notebook, we will demonstrate how to use FISSA with ImageJ ROI sets, saved as zip files.\n",
    "However, you are not restricted to providing your ROIs to FISSA in this format.\n",
    "FISSA will also accept ROIs which are arbitrarily defined by providing them as arrays (`numpy.ndarray` objects).\n",
    "ROIs provided in this way can be defined either as boolean-valued masks indicating the presence of a ROI per-pixel in the image, or defined as a list of coordinates defining the boundary of the ROI.\n",
    "For examples of such usage, see our [Suite2p](https://fissa.readthedocs.io/en/latest/examples/Suite2p%20example.html), [CNMF](https://fissa.readthedocs.io/en/latest/examples/cNMF%20example.html), and [SIMA](https://fissa.readthedocs.io/en/latest/examples/SIMA%20example.html) example notebooks."
   ]
  },
  {
   "cell_type": "markdown",
   "metadata": {},
   "source": [
    "As an example, we will run FISSA on a small test dataset.\n",
    "\n",
    "The test dataset can be found and downloaded from [the examples folder of the fissa repository](https://github.com/rochefort-lab/fissa/tree/master/examples), along with the source for this example notebook."
   ]
  },
  {
   "cell_type": "code",
   "execution_count": 7,
   "metadata": {},
   "outputs": [
    {
     "name": "stdout",
     "output_type": "stream",
     "text": [
      "The autoreload extension is already loaded. To reload it, use:\n",
      "  %reload_ext autoreload\n"
     ]
    },
    {
     "name": "stderr",
     "output_type": "stream",
     "text": [
      "C:\\Users\\LCG\\AppData\\Local\\Temp\\ipykernel_55172\\292946207.py:24: DeprecationWarning: `magic(...)` is deprecated since IPython 0.13 (warning added in 8.1), use run_line_magic(magic_name, parameter_s).\n",
      "  get_ipython().magic('load_ext autoreload')\n",
      "C:\\Users\\LCG\\AppData\\Local\\Temp\\ipykernel_55172\\292946207.py:25: DeprecationWarning: `magic(...)` is deprecated since IPython 0.13 (warning added in 8.1), use run_line_magic(magic_name, parameter_s).\n",
      "  get_ipython().magic('autoreload 2')\n"
     ]
    }
   ],
   "source": [
    "import os\n",
    "import glob\n",
    "import sys \n",
    "\n",
    "import h5py\n",
    "import cv2\n",
    "import logging\n",
    "\n",
    "%matplotlib inline\n",
    "import matplotlib.pyplot as plt\n",
    "\n",
    "import numpy as np\n",
    "\n",
    "\n",
    "try:\n",
    "    cv2.setNumThreads(0)\n",
    "except:\n",
    "    pass\n",
    "\n",
    "try:\n",
    "    if __IPYTHON__:\n",
    "        # this is used for debugging purposes only. allows to reload classes\n",
    "        # when changed\n",
    "        get_ipython().magic('load_ext autoreload')\n",
    "        get_ipython().magic('autoreload 2')\n",
    "except NameError:\n",
    "    pass\n",
    "\n",
    "import caiman as cm\n",
    "from caiman.motion_correction import MotionCorrect\n",
    "from caiman.paths import caiman_datadir\n",
    "from caiman.source_extraction.volpy import utils\n",
    "from caiman.source_extraction.volpy.volparams import volparams\n",
    "from caiman.source_extraction.volpy.volpy import VOLPY\n",
    "from caiman.summary_images import local_correlations_movie_offline\n",
    "from caiman.summary_images import mean_image\n",
    "from caiman.utils.utils import download_demo, download_model\n",
    "\n",
    "sys.path.append(r'C:\\Gomez\\Analysis\\2PVoltage_Imaging_Analysis_Pipeline')\n",
    "from fxns.raw2tiff import *\n",
    "from fxns.volpy_unpack import *\n",
    "from caiman_data.fxns_caiman.plotting_fxns import *"
   ]
  },
  {
   "cell_type": "code",
   "execution_count": 8,
   "metadata": {},
   "outputs": [],
   "source": [
    "def process_raw(movie_paths, mk_rawdir = False, convert = False, split = True, **kwargs):\n",
    "    '''\n",
    "    Process raw movies and get metadata\n",
    "    '''\n",
    "    exp_names = []\n",
    "    tif_path = []\n",
    "    exp_dir = []\n",
    "    exp_metadata = dict()\n",
    "    for movie in movie_paths:\n",
    "        exps, metadata = raw2tiff(movie,mk_rawdir, convert, split)\n",
    "        for exp in exps:\n",
    "            print('Processing '+ exp)\n",
    "            globals()[exp] = metadata[exp]\n",
    "            globals()[exp]['file_path_ch1'] = os.path.join(metadata[exp]['exp_path'], 'analysis', 'mean_rois_ch1.csv')\n",
    "            stack_path = os.path.join(metadata[exp]['exp_path'], 'tif_stack', metadata[exp]['exp_name'] + '.tif')\n",
    "            tif_path += [stack_path]\n",
    "            exp_dir += [os.path.split(os.path.split(stack_path)[0])[0]]\n",
    "        exp_names = exp_names + exps\n",
    "        exp_metadata.update(metadata)\n",
    "    \n",
    "    # print(exp_names)\n",
    "    return tif_path, exp_names, exp_dir"
   ]
  },
  {
   "cell_type": "code",
   "execution_count": 9,
   "metadata": {},
   "outputs": [],
   "source": [
    "def get_exp_paths(exp):\n",
    "    stack_path = [file for file in tif_path if exp in file]\n",
    "    dir_path = [file for file in exp_dir if exp in file]\n",
    "    exp_name = [file for file in exp_names if exp in file]\n",
    "    return stack_path, dir_path, exp_name"
   ]
  },
  {
   "cell_type": "code",
   "execution_count": 10,
   "metadata": {},
   "outputs": [
    {
     "name": "stdout",
     "output_type": "stream",
     "text": [
      "Processing FOV1_MWD\n",
      "Processing FOV1_Oddball\n",
      "Processing FOV2_MWD\n",
      "Processing FOV2_Oddball\n",
      "Processing FOV3_MWD\n",
      "Processing FOV3_Oddball\n"
     ]
    }
   ],
   "source": [
    "## Process Exps: Convert Raw to Tiff Stack and Collect MetaData + Get Save path \n",
    "movie_paths = [r'E:\\M057\\2024-02-02\\MWD']\n",
    "tif_path, exp_names, exp_dir = process_raw(movie_paths, mk_rawdir = False, convert = False, split = True)"
   ]
  },
  {
   "cell_type": "code",
   "execution_count": 11,
   "metadata": {},
   "outputs": [],
   "source": [
    "# Set motion correction parameters\n",
    "\n",
    "opts_dict = {}\n",
    "opts_dict['113Hz'] = {\n",
    "    'fr': 113, # hz\n",
    "    'pw_rigid': False,# flag for pw-rigid motion correction\n",
    "    'max_shifts': (5, 5),  # maximum allowed rigid shift\n",
    "    'gSig_filt': (3, 3), # size of filter\n",
    "    'strides': (48, 48) ,  # start a new patch for pw-rigid motion correction every x pixels\n",
    "    'overlaps': (24, 24),  # overlap between pathes (size of patch strides+overlaps)\n",
    "    'max_deviation_rigid': 3, # maximum deviation allowed for patch with respect to rigid shifts\n",
    "    'border_nan': 'copy'\n",
    "}\n",
    "opts_dict['147Hz'] = {\n",
    "    'fr': 147, # hz\n",
    "    'pw_rigid': False,# flag for pw-rigid motion correction\n",
    "    'max_shifts': (5, 5),  # maximum allowed rigid shift\n",
    "    'gSig_filt': (3, 3), # size of filter\n",
    "    'strides': (32, 32) ,  # start a new patch for pw-rigid motion correction every x pixels\n",
    "    'overlaps': (16, 16),  # overlap between pathes (size of patch strides+overlaps)\n",
    "    'max_deviation_rigid': 3, # maximum deviation allowed for patch with respect to rigid shifts\n",
    "    'border_nan': 'copy'\n",
    "}\n",
    "opts_dict['152Hz'] = {\n",
    "    'fr': 153, # hz\n",
    "    'pw_rigid': False,# flag for pw-rigid motion correction\n",
    "    'max_shifts': (5, 5),  # maximum allowed rigid shift\n",
    "    'gSig_filt': (3, 3), # size of filter\n",
    "    'strides': (32, 32) ,  # start a new patch for pw-rigid motion correction every x pixels\n",
    "    'overlaps': (16, 16),  # overlap between pathes (size of patch strides+overlaps)\n",
    "    'max_deviation_rigid': 3, # maximum deviation allowed for patch with respect to rigid shifts\n",
    "    'border_nan': 'copy'\n",
    "}\n",
    "opts_dict['220Hz'] = {\n",
    "    'fr': 220, # hz\n",
    "    'pw_rigid': False,# flag for pw-rigid motion correction\n",
    "    'max_shifts': (7, 7),  # maximum allowed rigid shift\n",
    "    'gSig_filt': (3, 2), # size of filter\n",
    "    'strides': (32, 24) ,  # start a new patch for pw-rigid motion correction every x pixels\n",
    "    'overlaps': (16, 12),  # overlap between pathes (size of patch strides+overlaps)\n",
    "    'max_deviation_rigid': 3, # maximum deviation allowed for patch with respect to rigid shifts\n",
    "    'border_nan': 'copy'\n",
    "}\n",
    "opts_dict['220Hz_awake'] = {\n",
    "    'fr': 220, # hz\n",
    "    'pw_rigid': False,# flag for pw-rigid motion correction\n",
    "    'max_shifts': (10,10),  # maximum allowed rigid shift\n",
    "    'gSig_filt': (3, 3), # size of filter\n",
    "    'strides': (32, 24) ,  # start a new patch for pw-rigid motion correction every x pixels\n",
    "    'overlaps': (16, 12),  # overlap between pathes (size of patch strides+overlaps)\n",
    "    'max_deviation_rigid': 3, # maximum deviation allowed for patch with respect to rigid shifts\n",
    "    'border_nan': 'copy'\n",
    "}\n",
    "opts_dict['397Hz_awake'] = {\n",
    "    'fr': 397, # hz\n",
    "    'pw_rigid': False,# flag for pw-rigid motion correction\n",
    "    'max_shifts': (15, 15),  # maximum allowed rigid shift\n",
    "    'gSig_filt': None, # size of filter\n",
    "    'strides': (32, 24) ,  # start a new patch for pw-rigid motion correction every x pixels\n",
    "    'overlaps': (16, 12),  # overlap between pathes (size of patch strides+overlaps)\n",
    "    'max_deviation_rigid': 3, # maximum deviation allowed for patch with respect to rigid shifts\n",
    "    'border_nan': 'copy'\n",
    "}"
   ]
  },
  {
   "cell_type": "code",
   "execution_count": 92,
   "metadata": {},
   "outputs": [
    {
     "name": "stderr",
     "output_type": "stream",
     "text": [
      "WARNING:root:Changing key fr in group data from None to 397\n",
      "WARNING:root:Changing key fnames in group data from None to ['E:\\\\M057\\\\2024-02-02\\\\MWD\\\\FOV2\\\\2024-02-02_M057_Drd3-cre_ASAP6-1_jRGECO1a_FOV2_MWD\\\\tif_stack\\\\2024-02-02_M057_Drd3-cre_ASAP6-1_jRGECO1a_FOV2_MWD.tif', 'E:\\\\M057\\\\2024-02-02\\\\MWD\\\\FOV2\\\\2024-02-02_M057_Drd3-cre_ASAP6-1_jRGECO1a_FOV2_Oddball\\\\tif_stack\\\\2024-02-02_M057_Drd3-cre_ASAP6-1_jRGECO1a_FOV2_Oddball.tif']\n",
      "WARNING:root:Changing key max_shifts in group motion from (6, 6) to (15, 15)\n",
      "WARNING:root:Changing key strides in group motion from (96, 96) to (32, 24)\n",
      "WARNING:root:Changing key overlaps in group motion from (32, 32) to (16, 12)\n"
     ]
    }
   ],
   "source": [
    "# Set Volparams Opts\n",
    "stack_path, dir_path, exps = get_exp_paths('FOV2')\n",
    "\n",
    "opts_final = opts_dict['397Hz_awake']\n",
    "opts_final['fnames'] = stack_path\n",
    "opts = volparams(params_dict=opts_final)"
   ]
  },
  {
   "cell_type": "code",
   "execution_count": 93,
   "metadata": {},
   "outputs": [
    {
     "ename": "Exception",
     "evalue": "A cluster is already runnning. Terminate with dview.terminate() if you want to restart.",
     "output_type": "error",
     "traceback": [
      "\u001b[1;31m---------------------------------------------------------------------------\u001b[0m",
      "\u001b[1;31mException\u001b[0m                                 Traceback (most recent call last)",
      "Input \u001b[1;32mIn [93]\u001b[0m, in \u001b[0;36m<cell line: 2>\u001b[1;34m()\u001b[0m\n\u001b[0;32m      1\u001b[0m \u001b[38;5;66;03m# %% start a cluster for parallel processing\u001b[39;00m\n\u001b[1;32m----> 2\u001b[0m c, dview, n_processes \u001b[38;5;241m=\u001b[39m \u001b[43mcm\u001b[49m\u001b[38;5;241;43m.\u001b[39;49m\u001b[43mcluster\u001b[49m\u001b[38;5;241;43m.\u001b[39;49m\u001b[43msetup_cluster\u001b[49m\u001b[43m(\u001b[49m\n\u001b[0;32m      3\u001b[0m \u001b[43m    \u001b[49m\u001b[43mbackend\u001b[49m\u001b[38;5;241;43m=\u001b[39;49m\u001b[38;5;124;43m'\u001b[39;49m\u001b[38;5;124;43mlocal\u001b[39;49m\u001b[38;5;124;43m'\u001b[39;49m\u001b[43m,\u001b[49m\u001b[43m \u001b[49m\u001b[43mn_processes\u001b[49m\u001b[38;5;241;43m=\u001b[39;49m\u001b[38;5;28;43;01mNone\u001b[39;49;00m\u001b[43m,\u001b[49m\u001b[43m \u001b[49m\u001b[43msingle_thread\u001b[49m\u001b[38;5;241;43m=\u001b[39;49m\u001b[38;5;28;43;01mFalse\u001b[39;49;00m\u001b[43m)\u001b[49m\n",
      "File \u001b[1;32mc:\\Users\\LCG\\miniconda3\\envs\\caiman\\lib\\site-packages\\caiman\\cluster.py:410\u001b[0m, in \u001b[0;36msetup_cluster\u001b[1;34m(backend, n_processes, single_thread, ignore_preexisting, maxtasksperchild)\u001b[0m\n\u001b[0;32m    406\u001b[0m         logger\u001b[38;5;241m.\u001b[39mwarn(\u001b[38;5;124m'\u001b[39m\u001b[38;5;124mFound an existing multiprocessing pool. \u001b[39m\u001b[38;5;124m'\u001b[39m\n\u001b[0;32m    407\u001b[0m                     \u001b[38;5;124m'\u001b[39m\u001b[38;5;124mThis is often indicative of an already-running CaImAn cluster. \u001b[39m\u001b[38;5;124m'\u001b[39m\n\u001b[0;32m    408\u001b[0m                     \u001b[38;5;124m'\u001b[39m\u001b[38;5;124mYou have configured the cluster setup to not raise an exception.\u001b[39m\u001b[38;5;124m'\u001b[39m)\n\u001b[0;32m    409\u001b[0m     \u001b[38;5;28;01melse\u001b[39;00m:\n\u001b[1;32m--> 410\u001b[0m         \u001b[38;5;28;01mraise\u001b[39;00m \u001b[38;5;167;01mException\u001b[39;00m(\n\u001b[0;32m    411\u001b[0m             \u001b[38;5;124m'\u001b[39m\u001b[38;5;124mA cluster is already runnning. Terminate with dview.terminate() if you want to restart.\u001b[39m\u001b[38;5;124m'\u001b[39m)\n\u001b[0;32m    412\u001b[0m \u001b[38;5;28;01mif\u001b[39;00m (platform\u001b[38;5;241m.\u001b[39msystem() \u001b[38;5;241m==\u001b[39m \u001b[38;5;124m'\u001b[39m\u001b[38;5;124mDarwin\u001b[39m\u001b[38;5;124m'\u001b[39m) \u001b[38;5;129;01mand\u001b[39;00m (sys\u001b[38;5;241m.\u001b[39mversion_info \u001b[38;5;241m>\u001b[39m (\u001b[38;5;241m3\u001b[39m, \u001b[38;5;241m0\u001b[39m)):\n\u001b[0;32m    413\u001b[0m     \u001b[38;5;28;01mtry\u001b[39;00m:\n",
      "\u001b[1;31mException\u001b[0m: A cluster is already runnning. Terminate with dview.terminate() if you want to restart."
     ]
    }
   ],
   "source": [
    "# %% start a cluster for parallel processing\n",
    "c, dview, n_processes = cm.cluster.setup_cluster(\n",
    "    backend='local', n_processes=None, single_thread=False)"
   ]
  },
  {
   "cell_type": "code",
   "execution_count": 97,
   "metadata": {},
   "outputs": [
    {
     "name": "stdout",
     "output_type": "stream",
     "text": [
      "mmap list ch1:\n",
      "['E:\\\\M057\\\\2024-02-02\\\\MWD\\\\FOV2\\\\2024-02-02_M057_Drd3-cre_ASAP6-1_jRGECO1a_FOV2_MWD\\\\tif_stack\\\\2024-02-02_M057_Drd3-cre_ASAP6-1_jRGECO1a_FOV2_MWD_rig__d1_32_d2_512_d3_1_order_F_frames_360000_.mmap', 'E:\\\\M057\\\\2024-02-02\\\\MWD\\\\FOV2\\\\2024-02-02_M057_Drd3-cre_ASAP6-1_jRGECO1a_FOV2_Oddball\\\\tif_stack\\\\2024-02-02_M057_Drd3-cre_ASAP6-1_jRGECO1a_FOV2_Oddball_rig__d1_32_d2_512_d3_1_order_F_frames_360000_.mmap']\n",
      "mmap list ch2:\n",
      "['E:\\\\M057\\\\2024-02-02\\\\MWD\\\\FOV2\\\\2024-02-02_M057_Drd3-cre_ASAP6-1_jRGECO1a_FOV2_MWD\\\\tif_stack\\\\2024-02-02_M057_Drd3-cre_ASAP6-1_jRGECO1a_FOV2_MWD_ch2_d1_32_d2_512_d3_1_order_C_frames_360000_.mmap', 'E:\\\\M057\\\\2024-02-02\\\\MWD\\\\FOV2\\\\2024-02-02_M057_Drd3-cre_ASAP6-1_jRGECO1a_FOV2_Oddball\\\\tif_stack\\\\2024-02-02_M057_Drd3-cre_ASAP6-1_jRGECO1a_FOV2_Oddball_ch2_d1_32_d2_512_d3_1_order_C_frames_360000_.mmap']\n"
     ]
    }
   ],
   "source": [
    "mc = MotionCorrect(stack_path, dview=dview, **opts.get_group('motion'))\n",
    "mc_list = []\n",
    "mc_list_ch2 = []\n",
    "for exp in stack_path:\n",
    "    # Load mmap file \n",
    "    mmap_file = [file for file in os.listdir(os.path.split(exp)[0]) if '.mmap' in file]\n",
    "    mmap_file_ch1 = [file for file in mmap_file if 'rig' in file] # ensures ch1 is loaded\n",
    "    mmap_file_ch2 = [file for file in mmap_file if 'ch2' in file] # ensures ch1 is loaded \n",
    "    mc_list += [os.path.join(os.path.split(exp)[0], mmap_file_ch1[0])]\n",
    "    mc_list_ch2 += [os.path.join(os.path.split(exp)[0], mmap_file_ch2[0])]\n",
    "print('mmap list ch1:')\n",
    "print(mc_list)\n",
    "print('mmap list ch2:')\n",
    "print(mc_list_ch2)\n",
    "mc.mmap_file = [mc_list[0]]\n",
    "# print(f'reuse previously saved motion corrected file:{mc.mmap_file}')"
   ]
  },
  {
   "cell_type": "code",
   "execution_count": 95,
   "metadata": {},
   "outputs": [],
   "source": [
    "from skimage.io import  imread, imshow, imsave\n",
    "\n",
    "def get_x_file_paths(movie_paths, ending):\n",
    "    file_paths = []\n",
    "    for root, _, files in os.walk(movie_paths):\n",
    "        for file in files:\n",
    "            if file.endswith(ending):\n",
    "                file_paths.append(os.path.join(root, file))\n",
    "    return file_paths"
   ]
  },
  {
   "cell_type": "code",
   "execution_count": 96,
   "metadata": {},
   "outputs": [
    {
     "data": {
      "text/plain": [
       "'E:\\\\M057\\\\2024-02-02\\\\MWD\\\\FOV2\\\\2024-02-02_M057_Drd3-cre_ASAP6-1_jRGECO1a_FOV2_MWD\\\\tif_stack\\\\2024-02-02_M057_Drd3-cre_ASAP6-1_jRGECO1a_FOV2_MWD_rig__d1_32_d2_512_d3_1_order_F_frames_360000_.mmap'"
      ]
     },
     "execution_count": 96,
     "metadata": {},
     "output_type": "execute_result"
    }
   ],
   "source": [
    "mc.mmap_file[0]"
   ]
  },
  {
   "cell_type": "code",
   "execution_count": 107,
   "metadata": {},
   "outputs": [
    {
     "data": {
      "application/vnd.jupyter.widget-view+json": {
       "model_id": "ee80efc450e7419494374ebb2839c39c",
       "version_major": 2,
       "version_minor": 0
      },
      "text/plain": [
       "Extracting traces:   0%|          | 0/1000 [00:00<?, ?it/s]"
      ]
     },
     "metadata": {},
     "output_type": "display_data"
    },
    {
     "ename": "ValueError",
     "evalue": "linearrings: Input operand 0 does not have enough dimensions (has 1, gufunc core with signature (i, d)->() requires 2)",
     "output_type": "error",
     "traceback": [
      "\u001b[1;31m---------------------------------------------------------------------------\u001b[0m",
      "\u001b[1;31mValueError\u001b[0m                                Traceback (most recent call last)",
      "Input \u001b[1;32mIn [107]\u001b[0m, in \u001b[0;36m<cell line: 11>\u001b[1;34m()\u001b[0m\n\u001b[0;32m      8\u001b[0m rois_location \u001b[38;5;241m=\u001b[39m roi_zip_path[\u001b[38;5;241m0\u001b[39m]\n\u001b[0;32m     10\u001b[0m \u001b[38;5;66;03m# Call FISSA using the function-based interface\u001b[39;00m\n\u001b[1;32m---> 11\u001b[0m result, raw \u001b[38;5;241m=\u001b[39m \u001b[43mfissa\u001b[49m\u001b[38;5;241;43m.\u001b[39;49m\u001b[43mrun_fissa\u001b[49m\u001b[43m(\u001b[49m\u001b[43mlist_of_arrays\u001b[49m\u001b[43m,\u001b[49m\u001b[43m \u001b[49m\u001b[43mrois_location\u001b[49m\u001b[43m)\u001b[49m\n",
      "File \u001b[1;32mc:\\Users\\LCG\\miniconda3\\envs\\caiman\\lib\\site-packages\\fissa\\core.py:1973\u001b[0m, in \u001b[0;36mrun_fissa\u001b[1;34m(images, rois, folder, freq, return_deltaf, deltaf_across_trials, export_to_matfile, **kwargs)\u001b[0m\n\u001b[0;32m   1971\u001b[0m experiment \u001b[38;5;241m=\u001b[39m Experiment(images, rois, folder\u001b[38;5;241m=\u001b[39mfolder, \u001b[38;5;241m*\u001b[39m\u001b[38;5;241m*\u001b[39mkwargs)\n\u001b[0;32m   1972\u001b[0m \u001b[38;5;66;03m# Run separation\u001b[39;00m\n\u001b[1;32m-> 1973\u001b[0m \u001b[43mexperiment\u001b[49m\u001b[38;5;241;43m.\u001b[39;49m\u001b[43mseparate\u001b[49m\u001b[43m(\u001b[49m\u001b[43m)\u001b[49m\n\u001b[0;32m   1974\u001b[0m \u001b[38;5;66;03m# Calculate Δf/f0\u001b[39;00m\n\u001b[0;32m   1975\u001b[0m \u001b[38;5;28;01mif\u001b[39;00m return_deltaf \u001b[38;5;129;01mor\u001b[39;00m (export_to_matfile \u001b[38;5;129;01mand\u001b[39;00m freq \u001b[38;5;129;01mis\u001b[39;00m \u001b[38;5;129;01mnot\u001b[39;00m \u001b[38;5;28;01mNone\u001b[39;00m):\n",
      "File \u001b[1;32mc:\\Users\\LCG\\miniconda3\\envs\\caiman\\lib\\site-packages\\fissa\\core.py:1364\u001b[0m, in \u001b[0;36mExperiment.separate\u001b[1;34m(self, redo_prep, redo_sep)\u001b[0m\n\u001b[0;32m   1362\u001b[0m \u001b[38;5;66;03m# Do data preparation\u001b[39;00m\n\u001b[0;32m   1363\u001b[0m \u001b[38;5;28;01mif\u001b[39;00m redo_prep \u001b[38;5;129;01mor\u001b[39;00m \u001b[38;5;28mself\u001b[39m\u001b[38;5;241m.\u001b[39mraw \u001b[38;5;129;01mis\u001b[39;00m \u001b[38;5;28;01mNone\u001b[39;00m:\n\u001b[1;32m-> 1364\u001b[0m     \u001b[38;5;28;43mself\u001b[39;49m\u001b[38;5;241;43m.\u001b[39;49m\u001b[43mseparation_prep\u001b[49m\u001b[43m(\u001b[49m\u001b[43mredo_prep\u001b[49m\u001b[43m)\u001b[49m\n\u001b[0;32m   1365\u001b[0m \u001b[38;5;28;01mif\u001b[39;00m redo_prep:\n\u001b[0;32m   1366\u001b[0m     redo_sep \u001b[38;5;241m=\u001b[39m \u001b[38;5;28;01mTrue\u001b[39;00m\n",
      "File \u001b[1;32mc:\\Users\\LCG\\miniconda3\\envs\\caiman\\lib\\site-packages\\fissa\\core.py:1246\u001b[0m, in \u001b[0;36mExperiment.separation_prep\u001b[1;34m(self, redo)\u001b[0m\n\u001b[0;32m   1235\u001b[0m     outputs \u001b[38;5;241m=\u001b[39m [\n\u001b[0;32m   1236\u001b[0m         _extract_cfg(image, rois, label\u001b[38;5;241m=\u001b[39mi)\n\u001b[0;32m   1237\u001b[0m         \u001b[38;5;28;01mfor\u001b[39;00m i, (image, rois) \u001b[38;5;129;01min\u001b[39;00m tqdm(\n\u001b[1;32m   (...)\u001b[0m\n\u001b[0;32m   1242\u001b[0m         )\n\u001b[0;32m   1243\u001b[0m     ]\n\u001b[0;32m   1244\u001b[0m \u001b[38;5;28;01melse\u001b[39;00m:\n\u001b[0;32m   1245\u001b[0m     \u001b[38;5;66;03m# Use multiprocessing\u001b[39;00m\n\u001b[1;32m-> 1246\u001b[0m     outputs \u001b[38;5;241m=\u001b[39m \u001b[43mParallel\u001b[49m\u001b[43m(\u001b[49m\n\u001b[0;32m   1247\u001b[0m \u001b[43m        \u001b[49m\u001b[43mn_jobs\u001b[49m\u001b[38;5;241;43m=\u001b[39;49m\u001b[43mn_jobs\u001b[49m\u001b[43m,\u001b[49m\u001b[43m \u001b[49m\u001b[43mbackend\u001b[49m\u001b[38;5;241;43m=\u001b[39;49m\u001b[38;5;124;43m\"\u001b[39;49m\u001b[38;5;124;43mthreading\u001b[39;49m\u001b[38;5;124;43m\"\u001b[39;49m\u001b[43m,\u001b[49m\u001b[43m \u001b[49m\u001b[43mverbose\u001b[49m\u001b[38;5;241;43m=\u001b[39;49m\u001b[38;5;28;43mmax\u001b[39;49m\u001b[43m(\u001b[49m\u001b[38;5;241;43m0\u001b[39;49m\u001b[43m,\u001b[49m\u001b[43m \u001b[49m\u001b[38;5;28;43mself\u001b[39;49m\u001b[38;5;241;43m.\u001b[39;49m\u001b[43mverbosity\u001b[49m\u001b[43m \u001b[49m\u001b[38;5;241;43m-\u001b[39;49m\u001b[43m \u001b[49m\u001b[38;5;241;43m5\u001b[39;49m\u001b[43m)\u001b[49m\n\u001b[0;32m   1248\u001b[0m \u001b[43m    \u001b[49m\u001b[43m)\u001b[49m\u001b[43m(\u001b[49m\n\u001b[0;32m   1249\u001b[0m \u001b[43m        \u001b[49m\u001b[43mdelayed\u001b[49m\u001b[43m(\u001b[49m\u001b[43m_extract_cfg\u001b[49m\u001b[43m)\u001b[49m\u001b[43m(\u001b[49m\u001b[43mimage\u001b[49m\u001b[43m,\u001b[49m\u001b[43m \u001b[49m\u001b[43mrois\u001b[49m\u001b[43m,\u001b[49m\u001b[43m \u001b[49m\u001b[43mlabel\u001b[49m\u001b[38;5;241;43m=\u001b[39;49m\u001b[43mi\u001b[49m\u001b[43m)\u001b[49m\n\u001b[0;32m   1250\u001b[0m \u001b[43m        \u001b[49m\u001b[38;5;28;43;01mfor\u001b[39;49;00m\u001b[43m \u001b[49m\u001b[43mi\u001b[49m\u001b[43m,\u001b[49m\u001b[43m \u001b[49m\u001b[43m(\u001b[49m\u001b[43mimage\u001b[49m\u001b[43m,\u001b[49m\u001b[43m \u001b[49m\u001b[43mrois\u001b[49m\u001b[43m)\u001b[49m\u001b[43m \u001b[49m\u001b[38;5;129;43;01min\u001b[39;49;00m\u001b[43m \u001b[49m\u001b[43mtqdm\u001b[49m\u001b[43m(\u001b[49m\n\u001b[0;32m   1251\u001b[0m \u001b[43m            \u001b[49m\u001b[38;5;28;43menumerate\u001b[39;49m\u001b[43m(\u001b[49m\u001b[38;5;28;43mzip\u001b[39;49m\u001b[43m(\u001b[49m\u001b[38;5;28;43mself\u001b[39;49m\u001b[38;5;241;43m.\u001b[39;49m\u001b[43mimages\u001b[49m\u001b[43m,\u001b[49m\u001b[43m \u001b[49m\u001b[38;5;28;43mself\u001b[39;49m\u001b[38;5;241;43m.\u001b[39;49m\u001b[43mrois\u001b[49m\u001b[43m)\u001b[49m\u001b[43m)\u001b[49m\u001b[43m,\u001b[49m\n\u001b[0;32m   1252\u001b[0m \u001b[43m            \u001b[49m\u001b[43mtotal\u001b[49m\u001b[38;5;241;43m=\u001b[39;49m\u001b[43mn_trial\u001b[49m\u001b[43m,\u001b[49m\n\u001b[0;32m   1253\u001b[0m \u001b[43m            \u001b[49m\u001b[43mdesc\u001b[49m\u001b[38;5;241;43m=\u001b[39;49m\u001b[38;5;124;43m\"\u001b[39;49m\u001b[38;5;124;43mExtracting traces\u001b[39;49m\u001b[38;5;124;43m\"\u001b[39;49m\u001b[43m,\u001b[49m\n\u001b[0;32m   1254\u001b[0m \u001b[43m            \u001b[49m\u001b[43mdisable\u001b[49m\u001b[38;5;241;43m=\u001b[39;49m\u001b[43mdisable_progressbars\u001b[49m\u001b[43m,\u001b[49m\n\u001b[0;32m   1255\u001b[0m \u001b[43m        \u001b[49m\u001b[43m)\u001b[49m\n\u001b[0;32m   1256\u001b[0m \u001b[43m    \u001b[49m\u001b[43m)\u001b[49m\n\u001b[0;32m   1258\u001b[0m \u001b[38;5;66;03m# get number of cells\u001b[39;00m\n\u001b[0;32m   1259\u001b[0m n_roi \u001b[38;5;241m=\u001b[39m \u001b[38;5;28mlen\u001b[39m(outputs[\u001b[38;5;241m0\u001b[39m][\u001b[38;5;241m1\u001b[39m])\n",
      "File \u001b[1;32mc:\\Users\\LCG\\miniconda3\\envs\\caiman\\lib\\site-packages\\joblib\\parallel.py:1056\u001b[0m, in \u001b[0;36mParallel.__call__\u001b[1;34m(self, iterable)\u001b[0m\n\u001b[0;32m   1053\u001b[0m     \u001b[38;5;28mself\u001b[39m\u001b[38;5;241m.\u001b[39m_iterating \u001b[38;5;241m=\u001b[39m \u001b[38;5;28;01mFalse\u001b[39;00m\n\u001b[0;32m   1055\u001b[0m \u001b[38;5;28;01mwith\u001b[39;00m \u001b[38;5;28mself\u001b[39m\u001b[38;5;241m.\u001b[39m_backend\u001b[38;5;241m.\u001b[39mretrieval_context():\n\u001b[1;32m-> 1056\u001b[0m     \u001b[38;5;28;43mself\u001b[39;49m\u001b[38;5;241;43m.\u001b[39;49m\u001b[43mretrieve\u001b[49m\u001b[43m(\u001b[49m\u001b[43m)\u001b[49m\n\u001b[0;32m   1057\u001b[0m \u001b[38;5;66;03m# Make sure that we get a last message telling us we are done\u001b[39;00m\n\u001b[0;32m   1058\u001b[0m elapsed_time \u001b[38;5;241m=\u001b[39m time\u001b[38;5;241m.\u001b[39mtime() \u001b[38;5;241m-\u001b[39m \u001b[38;5;28mself\u001b[39m\u001b[38;5;241m.\u001b[39m_start_time\n",
      "File \u001b[1;32mc:\\Users\\LCG\\miniconda3\\envs\\caiman\\lib\\site-packages\\joblib\\parallel.py:935\u001b[0m, in \u001b[0;36mParallel.retrieve\u001b[1;34m(self)\u001b[0m\n\u001b[0;32m    933\u001b[0m \u001b[38;5;28;01mtry\u001b[39;00m:\n\u001b[0;32m    934\u001b[0m     \u001b[38;5;28;01mif\u001b[39;00m \u001b[38;5;28mgetattr\u001b[39m(\u001b[38;5;28mself\u001b[39m\u001b[38;5;241m.\u001b[39m_backend, \u001b[38;5;124m'\u001b[39m\u001b[38;5;124msupports_timeout\u001b[39m\u001b[38;5;124m'\u001b[39m, \u001b[38;5;28;01mFalse\u001b[39;00m):\n\u001b[1;32m--> 935\u001b[0m         \u001b[38;5;28mself\u001b[39m\u001b[38;5;241m.\u001b[39m_output\u001b[38;5;241m.\u001b[39mextend(\u001b[43mjob\u001b[49m\u001b[38;5;241;43m.\u001b[39;49m\u001b[43mget\u001b[49m\u001b[43m(\u001b[49m\u001b[43mtimeout\u001b[49m\u001b[38;5;241;43m=\u001b[39;49m\u001b[38;5;28;43mself\u001b[39;49m\u001b[38;5;241;43m.\u001b[39;49m\u001b[43mtimeout\u001b[49m\u001b[43m)\u001b[49m)\n\u001b[0;32m    936\u001b[0m     \u001b[38;5;28;01melse\u001b[39;00m:\n\u001b[0;32m    937\u001b[0m         \u001b[38;5;28mself\u001b[39m\u001b[38;5;241m.\u001b[39m_output\u001b[38;5;241m.\u001b[39mextend(job\u001b[38;5;241m.\u001b[39mget())\n",
      "File \u001b[1;32mc:\\Users\\LCG\\miniconda3\\envs\\caiman\\lib\\multiprocessing\\pool.py:771\u001b[0m, in \u001b[0;36mApplyResult.get\u001b[1;34m(self, timeout)\u001b[0m\n\u001b[0;32m    769\u001b[0m     \u001b[38;5;28;01mreturn\u001b[39;00m \u001b[38;5;28mself\u001b[39m\u001b[38;5;241m.\u001b[39m_value\n\u001b[0;32m    770\u001b[0m \u001b[38;5;28;01melse\u001b[39;00m:\n\u001b[1;32m--> 771\u001b[0m     \u001b[38;5;28;01mraise\u001b[39;00m \u001b[38;5;28mself\u001b[39m\u001b[38;5;241m.\u001b[39m_value\n",
      "File \u001b[1;32mc:\\Users\\LCG\\miniconda3\\envs\\caiman\\lib\\multiprocessing\\pool.py:125\u001b[0m, in \u001b[0;36mworker\u001b[1;34m(inqueue, outqueue, initializer, initargs, maxtasks, wrap_exception)\u001b[0m\n\u001b[0;32m    123\u001b[0m job, i, func, args, kwds \u001b[38;5;241m=\u001b[39m task\n\u001b[0;32m    124\u001b[0m \u001b[38;5;28;01mtry\u001b[39;00m:\n\u001b[1;32m--> 125\u001b[0m     result \u001b[38;5;241m=\u001b[39m (\u001b[38;5;28;01mTrue\u001b[39;00m, func(\u001b[38;5;241m*\u001b[39margs, \u001b[38;5;241m*\u001b[39m\u001b[38;5;241m*\u001b[39mkwds))\n\u001b[0;32m    126\u001b[0m \u001b[38;5;28;01mexcept\u001b[39;00m \u001b[38;5;167;01mException\u001b[39;00m \u001b[38;5;28;01mas\u001b[39;00m e:\n\u001b[0;32m    127\u001b[0m     \u001b[38;5;28;01mif\u001b[39;00m wrap_exception \u001b[38;5;129;01mand\u001b[39;00m func \u001b[38;5;129;01mis\u001b[39;00m \u001b[38;5;129;01mnot\u001b[39;00m _helper_reraises_exception:\n",
      "File \u001b[1;32mc:\\Users\\LCG\\miniconda3\\envs\\caiman\\lib\\site-packages\\joblib\\_parallel_backends.py:595\u001b[0m, in \u001b[0;36mSafeFunction.__call__\u001b[1;34m(self, *args, **kwargs)\u001b[0m\n\u001b[0;32m    593\u001b[0m \u001b[38;5;28;01mdef\u001b[39;00m \u001b[38;5;21m__call__\u001b[39m(\u001b[38;5;28mself\u001b[39m, \u001b[38;5;241m*\u001b[39margs, \u001b[38;5;241m*\u001b[39m\u001b[38;5;241m*\u001b[39mkwargs):\n\u001b[0;32m    594\u001b[0m     \u001b[38;5;28;01mtry\u001b[39;00m:\n\u001b[1;32m--> 595\u001b[0m         \u001b[38;5;28;01mreturn\u001b[39;00m \u001b[38;5;28mself\u001b[39m\u001b[38;5;241m.\u001b[39mfunc(\u001b[38;5;241m*\u001b[39margs, \u001b[38;5;241m*\u001b[39m\u001b[38;5;241m*\u001b[39mkwargs)\n\u001b[0;32m    596\u001b[0m     \u001b[38;5;28;01mexcept\u001b[39;00m \u001b[38;5;167;01mKeyboardInterrupt\u001b[39;00m \u001b[38;5;28;01mas\u001b[39;00m e:\n\u001b[0;32m    597\u001b[0m         \u001b[38;5;66;03m# We capture the KeyboardInterrupt and reraise it as\u001b[39;00m\n\u001b[0;32m    598\u001b[0m         \u001b[38;5;66;03m# something different, as multiprocessing does not\u001b[39;00m\n\u001b[0;32m    599\u001b[0m         \u001b[38;5;66;03m# interrupt processing for a KeyboardInterrupt\u001b[39;00m\n\u001b[0;32m    600\u001b[0m         \u001b[38;5;28;01mraise\u001b[39;00m WorkerInterrupt() \u001b[38;5;28;01mfrom\u001b[39;00m \u001b[38;5;21;01me\u001b[39;00m\n",
      "File \u001b[1;32mc:\\Users\\LCG\\miniconda3\\envs\\caiman\\lib\\site-packages\\joblib\\parallel.py:262\u001b[0m, in \u001b[0;36mBatchedCalls.__call__\u001b[1;34m(self)\u001b[0m\n\u001b[0;32m    258\u001b[0m \u001b[38;5;28;01mdef\u001b[39;00m \u001b[38;5;21m__call__\u001b[39m(\u001b[38;5;28mself\u001b[39m):\n\u001b[0;32m    259\u001b[0m     \u001b[38;5;66;03m# Set the default nested backend to self._backend but do not set the\u001b[39;00m\n\u001b[0;32m    260\u001b[0m     \u001b[38;5;66;03m# change the default number of processes to -1\u001b[39;00m\n\u001b[0;32m    261\u001b[0m     \u001b[38;5;28;01mwith\u001b[39;00m parallel_backend(\u001b[38;5;28mself\u001b[39m\u001b[38;5;241m.\u001b[39m_backend, n_jobs\u001b[38;5;241m=\u001b[39m\u001b[38;5;28mself\u001b[39m\u001b[38;5;241m.\u001b[39m_n_jobs):\n\u001b[1;32m--> 262\u001b[0m         \u001b[38;5;28;01mreturn\u001b[39;00m [func(\u001b[38;5;241m*\u001b[39margs, \u001b[38;5;241m*\u001b[39m\u001b[38;5;241m*\u001b[39mkwargs)\n\u001b[0;32m    263\u001b[0m                 \u001b[38;5;28;01mfor\u001b[39;00m func, args, kwargs \u001b[38;5;129;01min\u001b[39;00m \u001b[38;5;28mself\u001b[39m\u001b[38;5;241m.\u001b[39mitems]\n",
      "File \u001b[1;32mc:\\Users\\LCG\\miniconda3\\envs\\caiman\\lib\\site-packages\\joblib\\parallel.py:262\u001b[0m, in \u001b[0;36m<listcomp>\u001b[1;34m(.0)\u001b[0m\n\u001b[0;32m    258\u001b[0m \u001b[38;5;28;01mdef\u001b[39;00m \u001b[38;5;21m__call__\u001b[39m(\u001b[38;5;28mself\u001b[39m):\n\u001b[0;32m    259\u001b[0m     \u001b[38;5;66;03m# Set the default nested backend to self._backend but do not set the\u001b[39;00m\n\u001b[0;32m    260\u001b[0m     \u001b[38;5;66;03m# change the default number of processes to -1\u001b[39;00m\n\u001b[0;32m    261\u001b[0m     \u001b[38;5;28;01mwith\u001b[39;00m parallel_backend(\u001b[38;5;28mself\u001b[39m\u001b[38;5;241m.\u001b[39m_backend, n_jobs\u001b[38;5;241m=\u001b[39m\u001b[38;5;28mself\u001b[39m\u001b[38;5;241m.\u001b[39m_n_jobs):\n\u001b[1;32m--> 262\u001b[0m         \u001b[38;5;28;01mreturn\u001b[39;00m [func(\u001b[38;5;241m*\u001b[39margs, \u001b[38;5;241m*\u001b[39m\u001b[38;5;241m*\u001b[39mkwargs)\n\u001b[0;32m    263\u001b[0m                 \u001b[38;5;28;01mfor\u001b[39;00m func, args, kwargs \u001b[38;5;129;01min\u001b[39;00m \u001b[38;5;28mself\u001b[39m\u001b[38;5;241m.\u001b[39mitems]\n",
      "File \u001b[1;32mc:\\Users\\LCG\\miniconda3\\envs\\caiman\\lib\\site-packages\\fissa\\core.py:209\u001b[0m, in \u001b[0;36mextract\u001b[1;34m(image, rois, nRegions, expansion, datahandler, verbosity, label, total)\u001b[0m\n\u001b[0;32m    207\u001b[0m \u001b[38;5;28;01mif\u001b[39;00m verbosity \u001b[38;5;241m>\u001b[39m\u001b[38;5;241m=\u001b[39m \u001b[38;5;241m3\u001b[39m:\n\u001b[0;32m    208\u001b[0m     \u001b[38;5;28mprint\u001b[39m(\u001b[38;5;124m\"\u001b[39m\u001b[38;5;132;01m{}\u001b[39;00m\u001b[38;5;124mConverting ROIs to masks\u001b[39m\u001b[38;5;124m\"\u001b[39m\u001b[38;5;241m.\u001b[39mformat(mheader))\n\u001b[1;32m--> 209\u001b[0m base_masks \u001b[38;5;241m=\u001b[39m \u001b[43mdatahandler\u001b[49m\u001b[38;5;241;43m.\u001b[39;49m\u001b[43mrois2masks\u001b[49m\u001b[43m(\u001b[49m\u001b[43mrois\u001b[49m\u001b[43m,\u001b[49m\u001b[43m \u001b[49m\u001b[43mcurdata\u001b[49m\u001b[43m)\u001b[49m\n\u001b[0;32m    211\u001b[0m \u001b[38;5;66;03m# get the mean image\u001b[39;00m\n\u001b[0;32m    212\u001b[0m mean \u001b[38;5;241m=\u001b[39m datahandler\u001b[38;5;241m.\u001b[39mgetmean(curdata)\n",
      "File \u001b[1;32mc:\\Users\\LCG\\miniconda3\\envs\\caiman\\lib\\site-packages\\fissa\\extraction.py:124\u001b[0m, in \u001b[0;36mDataHandlerAbstract.rois2masks\u001b[1;34m(cls, rois, data)\u001b[0m\n\u001b[0;32m    101\u001b[0m \u001b[38;5;129m@classmethod\u001b[39m\n\u001b[0;32m    102\u001b[0m \u001b[38;5;28;01mdef\u001b[39;00m \u001b[38;5;21mrois2masks\u001b[39m(\u001b[38;5;28mcls\u001b[39m, rois, data):\n\u001b[0;32m    103\u001b[0m     \u001b[38;5;124;03m\"\"\"\u001b[39;00m\n\u001b[0;32m    104\u001b[0m \u001b[38;5;124;03m    Convert ROIs into a collection of binary masks.\u001b[39;00m\n\u001b[0;32m    105\u001b[0m \n\u001b[1;32m   (...)\u001b[0m\n\u001b[0;32m    122\u001b[0m \u001b[38;5;124;03m    fissa.roitools.getmasks, fissa.roitools.readrois\u001b[39;00m\n\u001b[0;32m    123\u001b[0m \u001b[38;5;124;03m    \"\"\"\u001b[39;00m\n\u001b[1;32m--> 124\u001b[0m     \u001b[38;5;28;01mreturn\u001b[39;00m \u001b[43mroitools\u001b[49m\u001b[38;5;241;43m.\u001b[39;49m\u001b[43mrois2masks\u001b[49m\u001b[43m(\u001b[49m\u001b[43mrois\u001b[49m\u001b[43m,\u001b[49m\u001b[43m \u001b[49m\u001b[38;5;28;43mcls\u001b[39;49m\u001b[38;5;241;43m.\u001b[39;49m\u001b[43mget_frame_size\u001b[49m\u001b[43m(\u001b[49m\u001b[43mdata\u001b[49m\u001b[43m)\u001b[49m\u001b[43m)\u001b[49m\n",
      "File \u001b[1;32mc:\\Users\\LCG\\miniconda3\\envs\\caiman\\lib\\site-packages\\fissa\\roitools.py:478\u001b[0m, in \u001b[0;36mrois2masks\u001b[1;34m(rois, shape)\u001b[0m\n\u001b[0;32m    476\u001b[0m \u001b[38;5;66;03m# If it's a something by 2 array (or vice versa), assume polygons\u001b[39;00m\n\u001b[0;32m    477\u001b[0m \u001b[38;5;28;01mif\u001b[39;00m np\u001b[38;5;241m.\u001b[39mshape(rois[\u001b[38;5;241m0\u001b[39m])[\u001b[38;5;241m1\u001b[39m] \u001b[38;5;241m==\u001b[39m \u001b[38;5;241m2\u001b[39m \u001b[38;5;129;01mor\u001b[39;00m np\u001b[38;5;241m.\u001b[39mshape(rois[\u001b[38;5;241m0\u001b[39m])[\u001b[38;5;241m0\u001b[39m] \u001b[38;5;241m==\u001b[39m \u001b[38;5;241m2\u001b[39m:\n\u001b[1;32m--> 478\u001b[0m     \u001b[38;5;28;01mreturn\u001b[39;00m \u001b[43mgetmasks\u001b[49m\u001b[43m(\u001b[49m\u001b[43mrois\u001b[49m\u001b[43m,\u001b[49m\u001b[43m \u001b[49m\u001b[43mshape\u001b[49m\u001b[43m)\u001b[49m\n\u001b[0;32m    479\u001b[0m \u001b[38;5;66;03m# If it's a list of bigger arrays, assume masks\u001b[39;00m\n\u001b[0;32m    480\u001b[0m \u001b[38;5;28;01melif\u001b[39;00m np\u001b[38;5;241m.\u001b[39mshape(rois[\u001b[38;5;241m0\u001b[39m]) \u001b[38;5;241m==\u001b[39m shape:\n",
      "File \u001b[1;32mc:\\Users\\LCG\\miniconda3\\envs\\caiman\\lib\\site-packages\\fissa\\roitools.py:400\u001b[0m, in \u001b[0;36mgetmasks\u001b[1;34m(rois, shpe)\u001b[0m\n\u001b[0;32m    397\u001b[0m     rois[i] \u001b[38;5;241m=\u001b[39m np\u001b[38;5;241m.\u001b[39masarray(rois[i])\u001b[38;5;241m.\u001b[39mT\n\u001b[0;32m    399\u001b[0m \u001b[38;5;66;03m# transform current roi to mask\u001b[39;00m\n\u001b[1;32m--> 400\u001b[0m mask \u001b[38;5;241m=\u001b[39m \u001b[43mpoly2mask\u001b[49m\u001b[43m(\u001b[49m\u001b[43mrois\u001b[49m\u001b[43m[\u001b[49m\u001b[43mi\u001b[49m\u001b[43m]\u001b[49m\u001b[43m,\u001b[49m\u001b[43m \u001b[49m\u001b[43mshpe\u001b[49m\u001b[43m)\u001b[49m\n\u001b[0;32m    401\u001b[0m \u001b[38;5;66;03m# store in list\u001b[39;00m\n\u001b[0;32m    402\u001b[0m masks\u001b[38;5;241m.\u001b[39mappend(np\u001b[38;5;241m.\u001b[39marray(mask[\u001b[38;5;241m0\u001b[39m]\u001b[38;5;241m.\u001b[39mtodense()))\n",
      "File \u001b[1;32mc:\\Users\\LCG\\miniconda3\\envs\\caiman\\lib\\site-packages\\fissa\\polygons.py:70\u001b[0m, in \u001b[0;36mpoly2mask\u001b[1;34m(polygons, im_size)\u001b[0m\n\u001b[0;32m     67\u001b[0m \u001b[38;5;28;01mif\u001b[39;00m \u001b[38;5;28mlen\u001b[39m(im_size) \u001b[38;5;241m==\u001b[39m \u001b[38;5;241m2\u001b[39m:\n\u001b[0;32m     68\u001b[0m     im_size \u001b[38;5;241m=\u001b[39m (\u001b[38;5;241m1\u001b[39m,) \u001b[38;5;241m+\u001b[39m im_size\n\u001b[1;32m---> 70\u001b[0m polygons \u001b[38;5;241m=\u001b[39m \u001b[43m_reformat_polygons\u001b[49m\u001b[43m(\u001b[49m\u001b[43mpolygons\u001b[49m\u001b[43m)\u001b[49m\n\u001b[0;32m     72\u001b[0m mask \u001b[38;5;241m=\u001b[39m np\u001b[38;5;241m.\u001b[39mzeros(im_size, dtype\u001b[38;5;241m=\u001b[39m\u001b[38;5;28mbool\u001b[39m)\n\u001b[0;32m     74\u001b[0m \u001b[38;5;28;01mif\u001b[39;00m \u001b[38;5;28misinstance\u001b[39m(polygons, MultiPolygon):\n\u001b[0;32m     75\u001b[0m     \u001b[38;5;66;03m# Multi part geometries are no longer iterable from Shapely 2.0 onward\u001b[39;00m\n\u001b[0;32m     76\u001b[0m     \u001b[38;5;66;03m# so we have to take out the .geoms attribute to iterate over instead.\u001b[39;00m\n",
      "File \u001b[1;32mc:\\Users\\LCG\\miniconda3\\envs\\caiman\\lib\\site-packages\\fissa\\polygons.py:137\u001b[0m, in \u001b[0;36m_reformat_polygons\u001b[1;34m(polygons)\u001b[0m\n\u001b[0;32m    133\u001b[0m \u001b[38;5;28;01melse\u001b[39;00m:\n\u001b[0;32m    134\u001b[0m     \u001b[38;5;66;03m# We got some sort of sequence of sequences, ensure it has the\u001b[39;00m\n\u001b[0;32m    135\u001b[0m     \u001b[38;5;66;03m# correct depth and convert to Polygon objects\u001b[39;00m\n\u001b[0;32m    136\u001b[0m     \u001b[38;5;28;01mtry\u001b[39;00m:\n\u001b[1;32m--> 137\u001b[0m         \u001b[43mPolygon\u001b[49m\u001b[43m(\u001b[49m\u001b[43mpolygons\u001b[49m\u001b[43m[\u001b[49m\u001b[38;5;241;43m0\u001b[39;49m\u001b[43m]\u001b[49m\u001b[43m)\u001b[49m\n\u001b[0;32m    138\u001b[0m     \u001b[38;5;28;01mexcept\u001b[39;00m (\u001b[38;5;167;01mTypeError\u001b[39;00m, \u001b[38;5;167;01mAssertionError\u001b[39;00m):\n\u001b[0;32m    139\u001b[0m         polygons \u001b[38;5;241m=\u001b[39m [polygons]\n",
      "File \u001b[1;32mc:\\Users\\LCG\\miniconda3\\envs\\caiman\\lib\\site-packages\\shapely\\geometry\\polygon.py:230\u001b[0m, in \u001b[0;36mPolygon.__new__\u001b[1;34m(self, shell, holes)\u001b[0m\n\u001b[0;32m    228\u001b[0m     \u001b[38;5;28;01mreturn\u001b[39;00m shell\n\u001b[0;32m    229\u001b[0m \u001b[38;5;28;01melse\u001b[39;00m:\n\u001b[1;32m--> 230\u001b[0m     shell \u001b[38;5;241m=\u001b[39m \u001b[43mLinearRing\u001b[49m\u001b[43m(\u001b[49m\u001b[43mshell\u001b[49m\u001b[43m)\u001b[49m\n\u001b[0;32m    232\u001b[0m \u001b[38;5;28;01mif\u001b[39;00m holes \u001b[38;5;129;01mis\u001b[39;00m \u001b[38;5;129;01mnot\u001b[39;00m \u001b[38;5;28;01mNone\u001b[39;00m:\n\u001b[0;32m    233\u001b[0m     \u001b[38;5;28;01mif\u001b[39;00m \u001b[38;5;28mlen\u001b[39m(holes) \u001b[38;5;241m==\u001b[39m \u001b[38;5;241m0\u001b[39m:\n\u001b[0;32m    234\u001b[0m         \u001b[38;5;66;03m# shapely constructor cannot handle holes=[]\u001b[39;00m\n",
      "File \u001b[1;32mc:\\Users\\LCG\\miniconda3\\envs\\caiman\\lib\\site-packages\\shapely\\geometry\\polygon.py:104\u001b[0m, in \u001b[0;36mLinearRing.__new__\u001b[1;34m(self, coordinates)\u001b[0m\n\u001b[0;32m     99\u001b[0m \u001b[38;5;28;01mif\u001b[39;00m \u001b[38;5;28mlen\u001b[39m(coordinates) \u001b[38;5;241m==\u001b[39m \u001b[38;5;241m0\u001b[39m:\n\u001b[0;32m    100\u001b[0m     \u001b[38;5;66;03m# empty geometry\u001b[39;00m\n\u001b[0;32m    101\u001b[0m     \u001b[38;5;66;03m# TODO better constructor + should shapely.linearrings handle this?\u001b[39;00m\n\u001b[0;32m    102\u001b[0m     \u001b[38;5;28;01mreturn\u001b[39;00m shapely\u001b[38;5;241m.\u001b[39mfrom_wkt(\u001b[38;5;124m\"\u001b[39m\u001b[38;5;124mLINEARRING EMPTY\u001b[39m\u001b[38;5;124m\"\u001b[39m)\n\u001b[1;32m--> 104\u001b[0m geom \u001b[38;5;241m=\u001b[39m \u001b[43mshapely\u001b[49m\u001b[38;5;241;43m.\u001b[39;49m\u001b[43mlinearrings\u001b[49m\u001b[43m(\u001b[49m\u001b[43mcoordinates\u001b[49m\u001b[43m)\u001b[49m\n\u001b[0;32m    105\u001b[0m \u001b[38;5;28;01mif\u001b[39;00m \u001b[38;5;129;01mnot\u001b[39;00m \u001b[38;5;28misinstance\u001b[39m(geom, LinearRing):\n\u001b[0;32m    106\u001b[0m     \u001b[38;5;28;01mraise\u001b[39;00m \u001b[38;5;167;01mValueError\u001b[39;00m(\u001b[38;5;124m\"\u001b[39m\u001b[38;5;124mInvalid values passed to LinearRing constructor\u001b[39m\u001b[38;5;124m\"\u001b[39m)\n",
      "File \u001b[1;32mc:\\Users\\LCG\\miniconda3\\envs\\caiman\\lib\\site-packages\\shapely\\decorators.py:77\u001b[0m, in \u001b[0;36mmultithreading_enabled.<locals>.wrapped\u001b[1;34m(*args, **kwargs)\u001b[0m\n\u001b[0;32m     75\u001b[0m     \u001b[38;5;28;01mfor\u001b[39;00m arr \u001b[38;5;129;01min\u001b[39;00m array_args:\n\u001b[0;32m     76\u001b[0m         arr\u001b[38;5;241m.\u001b[39mflags\u001b[38;5;241m.\u001b[39mwriteable \u001b[38;5;241m=\u001b[39m \u001b[38;5;28;01mFalse\u001b[39;00m\n\u001b[1;32m---> 77\u001b[0m     \u001b[38;5;28;01mreturn\u001b[39;00m func(\u001b[38;5;241m*\u001b[39margs, \u001b[38;5;241m*\u001b[39m\u001b[38;5;241m*\u001b[39mkwargs)\n\u001b[0;32m     78\u001b[0m \u001b[38;5;28;01mfinally\u001b[39;00m:\n\u001b[0;32m     79\u001b[0m     \u001b[38;5;28;01mfor\u001b[39;00m arr, old_flag \u001b[38;5;129;01min\u001b[39;00m \u001b[38;5;28mzip\u001b[39m(array_args, old_flags):\n",
      "File \u001b[1;32mc:\\Users\\LCG\\miniconda3\\envs\\caiman\\lib\\site-packages\\shapely\\creation.py:171\u001b[0m, in \u001b[0;36mlinearrings\u001b[1;34m(coords, y, z, indices, out, **kwargs)\u001b[0m\n\u001b[0;32m    169\u001b[0m coords \u001b[38;5;241m=\u001b[39m _xyz_to_coords(coords, y, z)\n\u001b[0;32m    170\u001b[0m \u001b[38;5;28;01mif\u001b[39;00m indices \u001b[38;5;129;01mis\u001b[39;00m \u001b[38;5;28;01mNone\u001b[39;00m:\n\u001b[1;32m--> 171\u001b[0m     \u001b[38;5;28;01mreturn\u001b[39;00m lib\u001b[38;5;241m.\u001b[39mlinearrings(coords, out\u001b[38;5;241m=\u001b[39mout, \u001b[38;5;241m*\u001b[39m\u001b[38;5;241m*\u001b[39mkwargs)\n\u001b[0;32m    172\u001b[0m \u001b[38;5;28;01melse\u001b[39;00m:\n\u001b[0;32m    173\u001b[0m     \u001b[38;5;28;01mreturn\u001b[39;00m simple_geometries_1d(coords, indices, GeometryType\u001b[38;5;241m.\u001b[39mLINEARRING, out\u001b[38;5;241m=\u001b[39mout)\n",
      "\u001b[1;31mValueError\u001b[0m: linearrings: Input operand 0 does not have enough dimensions (has 1, gufunc core with signature (i, d)->() requires 2)"
     ]
    }
   ],
   "source": [
    "# Define path to imagery and to the ROI set\n",
    "Yr, dims, T = cm.load_memmap(mc.mmap_file[0])\n",
    "image_stack = np.reshape(Yr.T, [T] + list(dims), order='F')[:1000] \n",
    "list_of_arrays = [image_stack[i] for i in range(image_stack.shape[0])]\n",
    "\n",
    "\n",
    "roi_zip_path =get_x_file_paths(exp_dir[0], '.zip')\n",
    "rois_location = roi_zip_path[0]\n",
    "\n",
    "# Call FISSA using the function-based interface\n",
    "result, raw = fissa.run_fissa(list_of_arrays, rois_location)"
   ]
  },
  {
   "cell_type": "code",
   "execution_count": null,
   "metadata": {},
   "outputs": [],
   "source": []
  },
  {
   "cell_type": "markdown",
   "metadata": {},
   "source": [
    "The function-based interface is very straight forward, but note that you can only access the result which is returned by the function.\n",
    "\n",
    "If you need to access the raw traces, ROI masks, or demixing matrix, you need to use the more flexible object-oriented (class based) interface using [fissa.Experiment](https://fissa.readthedocs.io/en/stable/source/packages/fissa.core.html#fissa.core.Experiment) instead.\n",
    "An example of this is given in our [object-oriented example usage notebook](https://rochefort-lab.github.io/fissa/examples/Basic%20usage.html)."
   ]
  },
  {
   "cell_type": "markdown",
   "metadata": {},
   "source": [
    "## Working with results\n",
    "\n",
    "The output of ``fissa.run_fissa`` is structured as a 2-d array of 2-d arrays (it can't be a 4-d array because of trials generally don't have the same number of frames).\n",
    "\n",
    "The results from the cell (ROI) numbered `c` and the trial (TIFF) numbered `t` are located at `result[c, t][0, :]`.\n",
    "\n",
    "The fourth and final dimension works through frames within the TIFF file (time).\n",
    "\n",
    "The third dimension iterates over output signals.\n",
    "The 0-th entry of this is the signal which most closely corresponds to the raw signal within the ROI, and is FISSA's best guess for the decontaminated cell source signal.\n",
    "The other signals are the isolated signals from contaminants such as neuropil and neighbouring cells.\n",
    "\n",
    "Let's compare the raw signal to the separated signal for a single trial from an example ROI."
   ]
  },
  {
   "cell_type": "code",
   "execution_count": null,
   "metadata": {},
   "outputs": [],
   "source": [
    "# Plot sample trace\n",
    "\n",
    "# Select the ROI and trial to plot\n",
    "roi = 2\n",
    "trial = 1\n",
    "\n",
    "# Create the figure\n",
    "plt.figure(figsize=(12, 6))\n",
    "\n",
    "plt.plot(\n",
    "    raw[roi, trial][0, :],\n",
    "    lw=2,\n",
    "    label=\"Raw\",\n",
    "    color=colors((roi * 2) % colors.N),\n",
    ")\n",
    "plt.plot(\n",
    "    result[roi, trial][0, :],\n",
    "    lw=2,\n",
    "    label=\"Decontaminated\",\n",
    "    color=colors((roi * 2 + 1) % colors.N),\n",
    ")\n",
    "\n",
    "plt.title(\"ROI {},  Trial {}\".format(roi, trial), fontsize=15)\n",
    "plt.xlabel(\"Time (frame number)\", fontsize=15)\n",
    "plt.ylabel(\"Signal intensity (candela per unit area)\", fontsize=15)\n",
    "plt.grid()\n",
    "plt.legend()\n",
    "plt.show()"
   ]
  },
  {
   "cell_type": "markdown",
   "metadata": {},
   "source": [
    "Let's next plot the traces across all ROIs and trials."
   ]
  },
  {
   "cell_type": "code",
   "execution_count": null,
   "metadata": {},
   "outputs": [],
   "source": [
    "# Plot all ROIs and trials\n",
    "\n",
    "# Get the number of ROIs and trials\n",
    "n_roi = result.shape[0]\n",
    "n_trial = result.shape[1]\n",
    "\n",
    "# Find the maximum signal intensities for each ROI\n",
    "roi_max_raw = [\n",
    "    np.max([np.max(raw[i_roi, i_trial][0]) for i_trial in range(n_trial)])\n",
    "    for i_roi in range(n_roi)\n",
    "]\n",
    "roi_max_result = [\n",
    "    np.max([np.max(result[i_roi, i_trial][0]) for i_trial in range(n_trial)])\n",
    "    for i_roi in range(n_roi)\n",
    "]\n",
    "roi_max = np.maximum(roi_max_raw, roi_max_result)\n",
    "\n",
    "# Plot our figure using subplot panels\n",
    "plt.figure(figsize=(16, 10))\n",
    "for i_roi in range(n_roi):\n",
    "    for i_trial in range(n_trial):\n",
    "        # Make subplot axes\n",
    "        i_subplot = 1 + i_trial * n_roi + i_roi\n",
    "        plt.subplot(n_trial, n_roi, i_subplot)\n",
    "        # Plot the data\n",
    "        plt.plot(\n",
    "            raw[i_roi][i_trial][0, :],\n",
    "            label=\"Raw\",\n",
    "            color=colors((i_roi * 2) % colors.N),\n",
    "        )\n",
    "        plt.plot(\n",
    "            result[i_roi][i_trial][0, :],\n",
    "            label=\"Decontaminated\",\n",
    "            color=colors((i_roi * 2 + 1) % colors.N),\n",
    "        )\n",
    "        # Labels and boiler plate\n",
    "        plt.ylim([-0.05 * roi_max[i_roi], roi_max[i_roi] * 1.05])\n",
    "        if i_roi == 0:\n",
    "            plt.ylabel(\n",
    "                \"Trial {}\\n\\nSignal intensity\\n(candela per unit area)\".format(\n",
    "                    i_trial + 1\n",
    "                )\n",
    "            )\n",
    "        if i_trial == 0:\n",
    "            plt.title(\"ROI {}\".format(i_roi))\n",
    "            plt.legend()\n",
    "        if i_trial == n_trial - 1:\n",
    "            plt.xlabel(\"Time (frame number)\")\n",
    "\n",
    "plt.show()"
   ]
  },
  {
   "cell_type": "markdown",
   "metadata": {},
   "source": [
    "### Comparing ROI signal to neuropil region signals\n",
    "It can be very instructive to compare the signal in the central ROI with the surrounding neuropil regions. These can be found for cell `c` and trial `t` in `raw[c, t][i, :]`, with `i=0` being the cell, and `i=1,2,3,...` indicating the surrounding regions.\n",
    "\n",
    "Below we compare directly the raw ROI trace, the decontaminated trace, and the surrounding neuropil region traces."
   ]
  },
  {
   "cell_type": "code",
   "execution_count": null,
   "metadata": {},
   "outputs": [],
   "source": [
    "# Get the number of neuropil/surrounding regions.\n",
    "# The raw data has the raw ROI signal in raw[:, :][0] and raw surround\n",
    "# signals in the rest of the 3rd dimension.\n",
    "nRegions = raw[0, 0].shape[0] - 1\n",
    "\n",
    "# Select the ROI and trial to plot\n",
    "roi = 2\n",
    "trial = 1\n",
    "\n",
    "# Create the figure\n",
    "plt.figure(figsize=(12, 12))\n",
    "\n",
    "# Plot extracted traces for each neuropil subregion\n",
    "plt.subplot(2, 1, 1)\n",
    "# Plot trace of raw ROI signal\n",
    "plt.plot(\n",
    "    raw[roi, trial][0, :],\n",
    "    lw=2,\n",
    "    label=\"Raw ROI signal\",\n",
    "    color=colors((roi * 2) % colors.N),\n",
    ")\n",
    "# Plot traces from each neuropil region\n",
    "for i_neuropil in range(1, nRegions + 1):\n",
    "    alpha = i_neuropil / nRegions\n",
    "    plt.plot(\n",
    "        raw[roi, trial][i_neuropil, :],\n",
    "        lw=2,\n",
    "        label=\"Neuropil region {}\".format(i_neuropil),\n",
    "        color=\"k\",\n",
    "        alpha=alpha,\n",
    "    )\n",
    "plt.ylim([0, 125])\n",
    "plt.grid()\n",
    "plt.legend()\n",
    "plt.ylabel(\"Signal intensity (candela per unit area)\", fontsize=15)\n",
    "plt.title(\"ROI {},  Trial {}, neuropil region traces\".format(roi, trial), fontsize=15)\n",
    "\n",
    "# Plot the ROI signal\n",
    "plt.subplot(2, 1, 2)\n",
    "# Plot trace of raw ROI signal\n",
    "plt.plot(raw[roi, trial][0, :], lw=2, label=\"Raw\", color=colors((roi * 2) % colors.N))\n",
    "# Plot decontaminated signal matched to the ROI\n",
    "plt.plot(\n",
    "    result[roi, trial][0, :],\n",
    "    lw=2,\n",
    "    label=\"Decontaminated\",\n",
    "    color=colors((roi * 2 + 1) % colors.N),\n",
    ")\n",
    "\n",
    "plt.ylim([0, 125])\n",
    "plt.grid()\n",
    "plt.legend()\n",
    "plt.xlabel(\"Time (frame number)\", fontsize=15)\n",
    "plt.ylabel(\"Signal intensity (candela per unit area)\", fontsize=15)\n",
    "plt.title(\"ROI {},  Trial {}, raw and decontaminated\".format(roi, trial), fontsize=15)\n",
    "\n",
    "plt.show()"
   ]
  },
  {
   "cell_type": "markdown",
   "metadata": {},
   "source": [
    "### df/f<sub>0</sub>\n",
    "\n",
    "The default output from `fissa.run_fissa` is in the same units as the raw input (candelas per unit area).\n",
    "\n",
    "It is often desirable to calculate the intensity of a signal relative to the baseline value, df/f<sub>0</sub>, for the traces.\n",
    "`fissa.run_fissa` will do this for you provide the argument `return_deltaf=True`, and the sampling frequency of your TIFF files with `freq=sample_frequency`.\n",
    "The sampling frequency must be provided because the data is smoothed in order to determine the baseline value f<sub>0</sub>.\n",
    "\n",
    "When `return_deltaf=True`, `run_fissa` will return the df/f<sub>0</sub> output *instead* of the source signal traces scaled at the recording intensity.\n",
    "If you need to access both the standard FISSA output *and* the df/f<sub>0</sub> output at the same time, you need to use the more flexible [fissa.Experiment](https://fissa.readthedocs.io/en/stable/source/packages/fissa.core.html#fissa.core.Experiment) FISSA interface instead, as described in [this example](https://fissa.readthedocs.io/en/latest/examples/Basic%20usage.html#df/f0)."
   ]
  },
  {
   "cell_type": "code",
   "execution_count": null,
   "metadata": {},
   "outputs": [],
   "source": [
    "sample_frequency = 10  # Hz\n",
    "\n",
    "deltaf_result, deltaf_raw = fissa.run_fissa(\n",
    "    images_location, rois_location, freq=sample_frequency, return_deltaf=True\n",
    ")"
   ]
  },
  {
   "cell_type": "markdown",
   "metadata": {},
   "source": [
    "Note that by default, f<sub>0</sub> is determined as the minimum across all trials (all TIFFs) to ensure that results are directly comparable between trials, but you can normalise each trial individually instead if you prefer by providing the parameter `deltaf_across_trials=False`."
   ]
  },
  {
   "cell_type": "code",
   "execution_count": null,
   "metadata": {},
   "outputs": [],
   "source": [
    "# Plot sample trace\n",
    "\n",
    "# Select the ROI and trial to plot\n",
    "roi = 2\n",
    "trial = 1\n",
    "\n",
    "# Create the figure\n",
    "plt.figure(figsize=(12, 6))\n",
    "\n",
    "plt.plot(\n",
    "    deltaf_raw[roi, trial][0, :],\n",
    "    lw=2,\n",
    "    label=\"Raw\",\n",
    "    color=colors((roi * 2) % colors.N),\n",
    ")\n",
    "plt.plot(\n",
    "    deltaf_result[roi, trial][0, :],\n",
    "    lw=2,\n",
    "    label=\"Decontaminated\",\n",
    "    color=colors((roi * 2 + 1) % colors.N),\n",
    ")\n",
    "\n",
    "plt.title(\"ROI {},  Trial {}\".format(roi, trial), fontsize=15)\n",
    "plt.xlabel(\"Time (frame number)\", fontsize=15)\n",
    "plt.ylabel(r\"$\\Delta f\\,/\\,f_0$\", fontsize=15)\n",
    "plt.grid()\n",
    "plt.legend()\n",
    "plt.show()"
   ]
  },
  {
   "cell_type": "markdown",
   "metadata": {},
   "source": [
    "Since FISSA is very good at removing contamination from the ROI signals, the minimum value on the decontaminated trace will typically be `0.`.\n",
    "Consequently, we use the minimum value of the (smoothed) raw signal to provide the f<sub>0</sub> from the raw trace for both the raw and decontaminated df/f<sub>0</sub>.\n",
    "\n",
    "We can plot the df/f<sub>0</sub> for every cell during every trial as follows."
   ]
  },
  {
   "cell_type": "code",
   "execution_count": null,
   "metadata": {},
   "outputs": [],
   "source": [
    "# Get the number of ROIs and trials\n",
    "n_roi = result.shape[0]\n",
    "n_trial = result.shape[1]\n",
    "\n",
    "# Find the maximum signal intensities for each ROI,\n",
    "# so we can scale ylim the same across subplots\n",
    "roi_max = [\n",
    "    np.max([np.max(result[i_roi, i_trial][0]) for i_trial in range(n_trial)])\n",
    "    for i_roi in range(n_roi)\n",
    "]\n",
    "\n",
    "# Plot our figure using subplot panels\n",
    "plt.figure(figsize=(16, 10))\n",
    "for i_roi in range(n_roi):\n",
    "    for i_trial in range(n_trial):\n",
    "        # Make subplot axes\n",
    "        i_subplot = 1 + i_trial * n_roi + i_roi\n",
    "        plt.subplot(n_trial, n_roi, i_subplot)\n",
    "        # Plot the data\n",
    "        plt.plot(\n",
    "            result[i_roi][i_trial][0, :],\n",
    "            color=colors((i_roi * 2 + 1) % colors.N),\n",
    "        )\n",
    "        # Labels and boiler plate\n",
    "        plt.ylim([-0.05 * roi_max[i_roi], roi_max[i_roi] * 1.05])\n",
    "        if i_roi == 0:\n",
    "            plt.ylabel(\"Trial {}\\n\\n\".format(i_trial + 1) + r\"$\\Delta f\\,/\\,f_0$\")\n",
    "        if i_trial == 0:\n",
    "            plt.title(\"ROI {}\".format(i_roi))\n",
    "        if i_trial == n_trial - 1:\n",
    "            plt.xlabel(\"Time (frame number)\")\n",
    "\n",
    "plt.show()"
   ]
  },
  {
   "cell_type": "markdown",
   "metadata": {},
   "source": [
    "For comparison purposes, we can also plot the df/f<sub>0</sub> for the raw data against the decontaminated signal."
   ]
  },
  {
   "cell_type": "code",
   "execution_count": null,
   "metadata": {},
   "outputs": [],
   "source": [
    "# Plot all ROIs and trials\n",
    "\n",
    "# Get the number of ROIs and trials\n",
    "n_roi = deltaf_result.shape[0]\n",
    "n_trial = deltaf_result.shape[1]\n",
    "\n",
    "# Find the maximum signal intensities for each ROI\n",
    "roi_max_raw = [\n",
    "    np.max([np.max(deltaf_raw[i_roi, i_trial][0]) for i_trial in range(n_trial)])\n",
    "    for i_roi in range(n_roi)\n",
    "]\n",
    "roi_max_result = [\n",
    "    np.max([np.max(deltaf_result[i_roi, i_trial][0]) for i_trial in range(n_trial)])\n",
    "    for i_roi in range(n_roi)\n",
    "]\n",
    "roi_max = np.maximum(roi_max_raw, roi_max_result)\n",
    "\n",
    "# Plot our figure using subplot panels\n",
    "plt.figure(figsize=(16, 10))\n",
    "for i_roi in range(n_roi):\n",
    "    for i_trial in range(n_trial):\n",
    "        # Make subplot axes\n",
    "        i_subplot = 1 + i_trial * n_roi + i_roi\n",
    "        plt.subplot(n_trial, n_roi, i_subplot)\n",
    "        # Plot the data\n",
    "        plt.plot(\n",
    "            deltaf_raw[i_roi][i_trial][0, :],\n",
    "            label=\"Raw\",\n",
    "            color=colors((i_roi * 2) % colors.N),\n",
    "        )\n",
    "        plt.plot(\n",
    "            deltaf_result[i_roi][i_trial][0, :],\n",
    "            label=\"Decontaminated\",\n",
    "            color=colors((i_roi * 2 + 1) % colors.N),\n",
    "        )\n",
    "        # Labels and boiler plate\n",
    "        plt.ylim([-0.05 * roi_max[i_roi], roi_max[i_roi] * 1.05])\n",
    "        if i_roi == 0:\n",
    "            plt.ylabel(\"Trial {}\\n\\n\".format(i_trial + 1) + r\"$\\Delta f\\,/\\,f_0$\")\n",
    "        if i_trial == 0:\n",
    "            plt.title(\"ROI {}\".format(i_roi))\n",
    "            plt.legend()\n",
    "        if i_trial == n_trial - 1:\n",
    "            plt.xlabel(\"Time (frame number)\")\n",
    "\n",
    "plt.show()"
   ]
  },
  {
   "cell_type": "markdown",
   "metadata": {},
   "source": [
    "## Caching\n",
    "\n",
    "After using FISSA to decontaminate the data collected in an experiment, you will probably want to save the output for later use, so you don't have to keep re-running FISSA on the data.\n",
    "\n",
    "To facilitate this, an option to cache the outputs is built into FISSA.\n",
    "If you provide ``fissa.run_fissa`` with an identifier to the experiment being analysed in the ``folder`` argument, it will cache results into the corresponding directory.\n",
    "Later, if you call ``fissa.run_fissa`` again with the same ``folder`` argument, it will load the saved results from that cache folder instead of recomputing them."
   ]
  },
  {
   "cell_type": "code",
   "execution_count": null,
   "metadata": {},
   "outputs": [],
   "source": [
    "# Define the folder where FISSA's outputs will be cached, so they can be\n",
    "# quickly reloaded in the future without having to recompute them.\n",
    "#\n",
    "# This argument is optional; if it is not provided, FISSA will not save its\n",
    "# results for later use.\n",
    "#\n",
    "# If the output directory already exists, FISSA will load the contents of\n",
    "# the cache instead of recomputing it.\n",
    "#\n",
    "# Note: you *must* use a different folder for each experiment, otherwise\n",
    "# FISSA will load the existing data instead of computing results for the\n",
    "# new experiment.\n",
    "#\n",
    "# In this example, we will use the current datetime as the  name of the\n",
    "# experiment, but you can name your experiments however you want to.\n",
    "# If you want to take advantage of the caching of results, you should use\n",
    "# a more descriptive name than this so you can identify the actual\n",
    "# dataset that the FISSA results correspond to, and load them appropriately.\n",
    "\n",
    "import datetime\n",
    "\n",
    "output_folder = \"fissa-example_{}\".format(\n",
    "    datetime.datetime.now().strftime(\"%Y-%m-%d_%H-%M-%S\")\n",
    ")\n",
    "\n",
    "print(output_folder)"
   ]
  },
  {
   "cell_type": "markdown",
   "metadata": {},
   "source": [
    "Let's run FISSA on this experiment again, but this time save the results to the experiment's output directory."
   ]
  },
  {
   "cell_type": "code",
   "execution_count": null,
   "metadata": {},
   "outputs": [],
   "source": [
    "# Run FISSA, saving to results to output_folder\n",
    "result, raw = fissa.run_fissa(images_location, rois_location, folder=output_folder)"
   ]
  },
  {
   "cell_type": "markdown",
   "metadata": {},
   "source": [
    "A subsequent call to ``fissa.run_fissa`` which uses the same experiment folder argument will load the cached data instead of re-running the FISSA signal separation routine from scratch."
   ]
  },
  {
   "cell_type": "code",
   "execution_count": null,
   "metadata": {},
   "outputs": [],
   "source": [
    "# Run FISSA, loading results from cache in output_folder\n",
    "result, raw = fissa.run_fissa(images_location, rois_location, folder=output_folder)"
   ]
  },
  {
   "cell_type": "markdown",
   "metadata": {},
   "source": [
    "### Exporting to MATLAB\n",
    "\n",
    "The results can easily be exported to a MATLAB-compatible [MAT-file](https://mathworks.com/help/matlab/import_export/mat-file-versions.html) as follows.\n",
    "\n",
    "If we provide `export_to_matfile=True` to `fissa.run_fissa`, it will export the data a matfile named `\"separated.mat\"` within the cache directory (the cache directory as provided with the `folder` argument)."
   ]
  },
  {
   "cell_type": "code",
   "execution_count": null,
   "metadata": {},
   "outputs": [],
   "source": [
    "result, raw = fissa.run_fissa(\n",
    "    images_location, rois_location, folder=output_folder, export_to_matfile=True\n",
    ")"
   ]
  },
  {
   "cell_type": "markdown",
   "metadata": {},
   "source": [
    "Alternatively, we can export to a matfile with a custom file name by setting the `export_to_matfile` argument to the target path."
   ]
  },
  {
   "cell_type": "code",
   "execution_count": null,
   "metadata": {},
   "outputs": [],
   "source": [
    "result, raw = fissa.run_fissa(\n",
    "    images_location, rois_location, export_to_matfile=\"experiment_results.mat\"\n",
    ")"
   ]
  },
  {
   "cell_type": "markdown",
   "metadata": {},
   "source": [
    "Loading the generated file (e.g. `\"output_folder/separated.mat\"`) in MATLAB will provide you with all of FISSA's outputs.\n",
    "\n",
    "These are structured in the same way as the `raw` and `result` variables returned by `fissa.run_fissa`.\n",
    "With the python interface, the outputs are 2d numpy.ndarrays each element of which is itself a 2d numpy.ndarrays.\n",
    "Meanwhile, when the output is loaded into MATLAB the data is structured as a 2d cell-array each element of which is a 2d matrix.\n",
    "\n",
    "Additionally, note that whilst Python indexes from 0, MATLAB indexes from 1 instead.\n",
    "As a consequence of this, the results seen on Python for a given roi and trial `experiment.result[roi, trial]` correspond to the index `S.result{roi + 1, trial + 1}` on MATLAB.\n",
    "\n",
    "Our first plot in this notebook can be replicated in MATLAB as follows:\n",
    "```octave\n",
    "%% Plot example traces in MATLAB\n",
    "% Load FISSA output data in MATLAB\n",
    "% ... either from the automatic file name within a cache\n",
    "% S = load('fissa-example/separated.mat')\n",
    "% ... or from a custom output path\n",
    "S = load('experiment_results.mat')\n",
    "% Select the second trial\n",
    "% (On Python, this would be trial = 1)\n",
    "trial = 2;\n",
    "% Plot the result traces for each ROI\n",
    "figure;\n",
    "hold on;\n",
    "for i_roi = 1:size(S.result, 1);\n",
    "    plot(S.result{i_roi, trial}(1, :));\n",
    "end\n",
    "xlabel('Time (frame number)');\n",
    "ylabel('Signal intensity (candela per unit area)');\n",
    "grid on;\n",
    "box on;\n",
    "set(gca,'TickDir','out');\n",
    "```"
   ]
  },
  {
   "cell_type": "markdown",
   "metadata": {},
   "source": [
    "## Customisation"
   ]
  },
  {
   "cell_type": "markdown",
   "metadata": {},
   "source": [
    "### Controlling verbosity\n",
    "\n",
    "The level of verbosity of FISSA can be controlled with the `verbosity` parameter.\n",
    "\n",
    "The default is `verbosity=1`.\n",
    "\n",
    "If the verbosity parameter is higher, FISSA will print out more information while it is processing.\n",
    "This can be helpful for debugging puproses.\n",
    "The verbosity reaches its maximum at `verbosity=6`.\n",
    "\n",
    "If `verbosity=0`, FISSA will run silently."
   ]
  },
  {
   "cell_type": "code",
   "execution_count": null,
   "metadata": {},
   "outputs": [],
   "source": [
    "# Call FISSA with elevated verbosity\n",
    "result = fissa.run_fissa(images_location, rois_location, verbosity=2)"
   ]
  },
  {
   "cell_type": "markdown",
   "metadata": {},
   "source": [
    "### Analysis parameters\n",
    "\n",
    "FISSA has several user-definable settings, which can be set as optional arguments to `fissa.run_fissa`."
   ]
  },
  {
   "cell_type": "code",
   "execution_count": null,
   "metadata": {},
   "outputs": [],
   "source": [
    "# FISSA uses multiprocessing to speed up its processing.\n",
    "# By default, it will spawn one worker per CPU core on your machine.\n",
    "# However, if you have a lot of cores and not much memory, you many not\n",
    "# be able to suport so many workers simultaneously.\n",
    "# In particular, this can be problematic during the data preparation step\n",
    "# in which TIFFs are loaded into memory.\n",
    "# The default number of cores for the data preparation and separation steps\n",
    "# can be changed as follows.\n",
    "ncores_preparation = 4  # If None, uses all available cores\n",
    "ncores_separation = None  # if None, uses all available cores\n",
    "\n",
    "# By default, FISSA uses 4 subregions for the neuropil region.\n",
    "# If you have very dense data with a lot of different signals per unit area,\n",
    "# you may wish to increase the number of regions.\n",
    "n_regions = 8\n",
    "\n",
    "# By default, each surrounding region has the same area as the central ROI.\n",
    "# i.e. expansion = 1\n",
    "# However, you may wish to increase or decrease this value.\n",
    "expansion = 0.75\n",
    "\n",
    "# The degree of signal sparsity can be controlled with the alpha parameter.\n",
    "alpha = 0.02\n",
    "\n",
    "# If you change the experiment parameters, you need to change the cache directory too.\n",
    "# Otherwise FISSA will try to reload the results from the previous run instead of\n",
    "# computing the new results. FISSA will throw an error if you try to load data which\n",
    "# was generated with different analysis parameters to the current parameters.\n",
    "output_folder2 = output_folder + \"_alt\"\n",
    "\n",
    "# Run FISSA with these parameters\n",
    "result, raw = fissa.run_fissa(\n",
    "    images_location,\n",
    "    rois_location,\n",
    "    output_folder2,\n",
    "    nRegions=n_regions,\n",
    "    expansion=expansion,\n",
    "    alpha=alpha,\n",
    "    ncores_preparation=ncores_preparation,\n",
    "    ncores_separation=ncores_separation,\n",
    ")"
   ]
  },
  {
   "cell_type": "markdown",
   "metadata": {},
   "source": [
    "We can plot the new results for our example trace from before. Although we doubled the number of neuropil regions around the cell, very little has changed for this example because there were not many sources of contamination.\n",
    "\n",
    "However, there will be more of a difference if your data has more neuropil sources per unit area within the image."
   ]
  },
  {
   "cell_type": "code",
   "execution_count": null,
   "metadata": {},
   "outputs": [],
   "source": [
    "n_roi = result.shape[0]\n",
    "n_trial = result.shape[1]\n",
    "\n",
    "i_roi = 3\n",
    "\n",
    "plt.figure(figsize=(12, 6))\n",
    "\n",
    "for i_trial in range(n_trial):\n",
    "    plt.plot(result[i_roi, i_trial][0, :], label=\"Trial {}\".format(i_trial + 1))\n",
    "\n",
    "plt.title(\"ROI {}\".format(i_roi), fontsize=15)\n",
    "plt.xlabel(\"Time (Frame number)\", fontsize=15)\n",
    "plt.ylabel(\"Signal intensity (candela per unit area)\", fontsize=15)\n",
    "plt.grid()\n",
    "plt.legend()\n",
    "plt.show()"
   ]
  },
  {
   "cell_type": "markdown",
   "metadata": {},
   "source": [
    "## Working with very large tiff files\n",
    "\n",
    "By default, FISSA loads entire TIFF files into memory at once and then manipulates all ROIs within the TIFF.\n",
    "This is more efficient, but can be problematic when working with very large TIFF files which are too big to be loaded into memory all at once.\n",
    "\n",
    "If you run out of memory when running FISSA, you can try reducing the number of workers during the memory-intensive preparation step."
   ]
  },
  {
   "cell_type": "code",
   "execution_count": null,
   "metadata": {},
   "outputs": [],
   "source": [
    "result = fissa.run_fissa(images_location, rois_location, ncores_preparation=1)"
   ]
  },
  {
   "cell_type": "markdown",
   "metadata": {},
   "source": [
    "Alternatively, you can activate FISSA's low memory mode.\n",
    "In this mode, it will load and process frames one at a time.\n",
    "This will run a fair bit slower than the default mode, but has a much lower memory requirement."
   ]
  },
  {
   "cell_type": "code",
   "execution_count": null,
   "metadata": {},
   "outputs": [],
   "source": [
    "result, raw = fissa.run_fissa(images_location, rois_location, lowmemory_mode=True)"
   ]
  }
 ],
 "metadata": {
  "kernelspec": {
   "display_name": "jupyterlab",
   "language": "python",
   "name": "python3"
  },
  "language_info": {
   "codemirror_mode": {
    "name": "ipython",
    "version": 3
   },
   "file_extension": ".py",
   "mimetype": "text/x-python",
   "name": "python",
   "nbconvert_exporter": "python",
   "pygments_lexer": "ipython3",
   "version": "3.9.13"
  }
 },
 "nbformat": 4,
 "nbformat_minor": 1
}
